{
 "cells": [
  {
   "cell_type": "markdown",
   "metadata": {},
   "source": [
    " ## Cleaning Data Project"
   ]
  },
  {
   "cell_type": "code",
   "execution_count": 5,
   "metadata": {},
   "outputs": [],
   "source": [
    "import pandas as pd \n",
    "\n",
    "# loading the train data\n",
    "# # Subjects (1-30) who performed the actvity\n",
    "train_sub = pd.read_csv('subject_train.txt',delim_whitespace = True, header =None) \n",
    "\n",
    "# Actvities labels(1-6)\n",
    "train_activity = pd.read_csv('y_train.txt', delim_whitespace =True, header =None)\n",
    "\n",
    "# Measurements data of variable/features for each activity and each subject\n",
    "train_data = pd.read_csv('X_train.txt', delim_whitespace = True, header=None) \n",
    "\n",
    "# Loading the file that contains the feature names\n",
    "feature_file = pd.read_csv('features.txt', delim_whitespace = True, header =None) \n",
    "\n",
    "# Loading the file that contains the actvity names\n",
    "activity_label= pd.read_csv('activity_labels.txt', delim_whitespace = True, header=None)\n",
    "\n",
    "# Converting the first column into dictionary\n",
    "activity_names = dict(activity_label[1]) \n",
    "\n",
    "# Changing the keys of dictionary (activity_names) from (0-6) to (1-6)\n",
    "activity_name_1 = {1: 'WALKING',2: 'WALKING_UPSTAIRS',3: 'WALKING_DOWNSTAIRS',4: 'SITTING',5: \n",
    "                   'STANDING',6: 'LAYING'}\n",
    "\n",
    "# Loading the test data\n",
    "# Subjects (1-30) who performed the actvity\n",
    "test_sub = pd.read_csv('subject_test.txt',delim_whitespace = True, header =None) \n",
    "\n",
    "# Actvities labels(1-6)\n",
    "test_activity = pd.read_csv('y_test.txt', delim_whitespace =True, header =None)\n",
    "\n",
    "# Measurements data of variable/features for each activity and each subject\n",
    "test_data = pd.read_csv('X_test.txt', delim_whitespace = True, header=None) \n",
    "\n",
    "# Combining all the train data into dataframe along horizontal axis\n",
    "df_train =pd.concat([train_sub,train_activity,train_data],axis =1)\n",
    "\n",
    "# Combining all the train data into dataframe  horizontal axis\n",
    "df_test =pd.concat([test_sub,test_activity,test_data],axis =1)\n",
    "\n",
    "# Combining train and test dataframes vertical axis\n",
    "df = pd.concat([df_train,df_test],axis =0)\n",
    "\n",
    "# Creating list of columns '\n",
    "list_columns =['Subject_ID','Activity']\n",
    "for feature in feature_file[1]:\n",
    "    list_columns.append(feature)\n",
    "    \n",
    "# Assighning column names to dataframe '\n",
    "df.columns =list_columns\n",
    "\n",
    "# Extracting subset of dataframe- selcting only features that contains mean\n",
    "df1 = df.filter(regex ='mean|meanFreq|std|Subject|Activity',axis =1)\n",
    "\n",
    "# Grouping data by columns 'Subject_ID'and 'Activity' and finding their mean for each subject\n",
    "# and each activity\n",
    "df2 = df1.groupby(['Subject_ID','Activity']).mean()\n",
    "\n",
    "# Resetting the index (when grouping is done, the grouped columns (above two) are not any more\n",
    "# columns,reset index is done to convert them back to columns)\n",
    "df2.reset_index(inplace=True)\n",
    "\n",
    "# Converting activitiy labels in to names by mapping function\n",
    "df2['Activity']=df2['Activity'].map(activity_name_1)\n",
    "\n",
    "# replacing \"()\" with whirespace (to remove multiple specail characters, use this list '[()\\!]' \n",
    "# such)\n",
    "df2.columns = df2.columns.str.replace('[()]','')\n",
    "\n",
    "# Writing dataframe to text file\n",
    "df2.to_csv('tidy_data.txt', index =False, sep =\" \")"
   ]
  },
  {
   "cell_type": "code",
   "execution_count": null,
   "metadata": {},
   "outputs": [],
   "source": []
  }
 ],
 "metadata": {
  "kernelspec": {
   "display_name": "Python 3",
   "language": "python",
   "name": "python3"
  },
  "language_info": {
   "codemirror_mode": {
    "name": "ipython",
    "version": 3
   },
   "file_extension": ".py",
   "mimetype": "text/x-python",
   "name": "python",
   "nbconvert_exporter": "python",
   "pygments_lexer": "ipython3",
   "version": "3.8.8"
  }
 },
 "nbformat": 4,
 "nbformat_minor": 4
}
